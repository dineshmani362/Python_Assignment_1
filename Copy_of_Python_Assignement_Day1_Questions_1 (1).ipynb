{
  "cells": [
    {
      "cell_type": "markdown",
      "metadata": {
        "id": "D-KgkVX3IZ-S"
      },
      "source": [
        "1.  Python Program to exchange the values of two numbers without using a temporary variable."
      ]
    },
    {
      "cell_type": "code",
      "execution_count": null,
      "metadata": {
        "id": "yldf_YhdIZ-T",
        "colab": {
          "base_uri": "https://localhost:8080/"
        },
        "outputId": "616e2802-9e11-400c-e124-994032f4d217"
      },
      "outputs": [
        {
          "output_type": "stream",
          "name": "stdout",
          "text": [
            "value of num1 is : 20\n",
            "value of num2 is : 10\n"
          ]
        }
      ],
      "source": [
        "num1=10\n",
        "num2=20\n",
        "num1,num2=num2,num1\n",
        "print(\"value of num1 is :\",num1)\n",
        "print(\"value of num2 is :\",num2)\n"
      ]
    },
    {
      "cell_type": "markdown",
      "metadata": {
        "id": "MrK3aZMGIZ-Y"
      },
      "source": [
        "2. Write a python code to replace all  \"a\"  with 2 for the given variable\n",
        "s = 'abc12321cba'"
      ]
    },
    {
      "cell_type": "code",
      "execution_count": 1,
      "metadata": {
        "id": "J7rr7O5XIZ-Z",
        "colab": {
          "base_uri": "https://localhost:8080/"
        },
        "outputId": "c5cc3d76-d0f1-4615-f72e-989285040809"
      },
      "outputs": [
        {
          "output_type": "stream",
          "name": "stdout",
          "text": [
            "2bc12321cb2\n"
          ]
        }
      ],
      "source": [
        "s='abc12321cba'\n",
        "print(s.replace(\"a\",\"2\"))"
      ]
    },
    {
      "cell_type": "markdown",
      "metadata": {
        "id": "Zo8gMGlbIZ-g"
      },
      "source": [
        "3. Python code for to  remove first character in string?"
      ]
    },
    {
      "cell_type": "code",
      "execution_count": null,
      "metadata": {
        "id": "XTIKmVpiIZ-h",
        "colab": {
          "base_uri": "https://localhost:8080/"
        },
        "outputId": "e5960813-1b9f-4c16-ca40-e59d5fc081cd"
      },
      "outputs": [
        {
          "output_type": "stream",
          "name": "stdout",
          "text": [
            "inesh\n"
          ]
        }
      ],
      "source": [
        "x=\"dinesh\"\n",
        "print(x.replace('d',''))"
      ]
    },
    {
      "cell_type": "markdown",
      "metadata": {
        "id": "XBhfFfEIIZ-n"
      },
      "source": [
        "4. Concatenate two strings  \n",
        "First Input : \"hello\"\n",
        "Second Input : \"guvi\"\n",
        "desired output :   \"hello guvi\""
      ]
    },
    {
      "cell_type": "code",
      "execution_count": null,
      "metadata": {
        "colab": {
          "base_uri": "https://localhost:8080/"
        },
        "id": "qVhNDe9mIZ-p",
        "outputId": "83175b0c-442a-4235-9d73-778b37b51855"
      },
      "outputs": [
        {
          "output_type": "stream",
          "name": "stdout",
          "text": [
            "enter first input :hello \n",
            "enter second input :guvi\n",
            "hello guvi\n"
          ]
        }
      ],
      "source": [
        "x=input(\"enter first input :\")\n",
        "y=input(\"enter second input :\")\n",
        "print(x+y)"
      ]
    },
    {
      "cell_type": "markdown",
      "metadata": {
        "id": "W1CyejMTIZ-t"
      },
      "source": [
        "5. Repeat the string \"hello guvi\" 3 times\n",
        "desired output :  'hello guvi hello guvi hello guvi '"
      ]
    },
    {
      "cell_type": "code",
      "execution_count": null,
      "metadata": {
        "colab": {
          "base_uri": "https://localhost:8080/"
        },
        "id": "6B83XYHVIZ-u",
        "outputId": "88b772ee-e558-42fa-8e8f-5888ed2ceada"
      },
      "outputs": [
        {
          "output_type": "stream",
          "name": "stdout",
          "text": [
            "hello guvi hello guvi hello guvi \n"
          ]
        }
      ],
      "source": [
        "x=\"hello guvi \"\n",
        "print(x*3)"
      ]
    },
    {
      "cell_type": "markdown",
      "metadata": {
        "id": "4oblWnrSIZ-y"
      },
      "source": [
        "6. Create 3 variables a1,a2,a3. Assign the same value \" 4 \" to all the variables in a single line of code."
      ]
    },
    {
      "cell_type": "code",
      "execution_count": null,
      "metadata": {
        "id": "O7nH3nd-IZ-y"
      },
      "outputs": [],
      "source": [
        "a1=a2=a3=4"
      ]
    },
    {
      "cell_type": "markdown",
      "metadata": {
        "id": "fs_t4D-oIZ-2"
      },
      "source": [
        "7. Calculate BMI of a person using the height and weight.\n",
        "BMI = weight / (height **2)\n"
      ]
    },
    {
      "cell_type": "code",
      "execution_count": null,
      "metadata": {
        "colab": {
          "base_uri": "https://localhost:8080/"
        },
        "id": "N_VZSoYjIZ-3",
        "outputId": "3dcf1b30-f357-4c3c-dee6-30a282d7338d"
      },
      "outputs": [
        {
          "output_type": "stream",
          "name": "stdout",
          "text": [
            "enter your weight :70\n",
            "enter your height :160\n",
            "0.002734375\n"
          ]
        }
      ],
      "source": [
        "w=int(input(\"enter your weight :\"))\n",
        "h=int(input(\"enter your height :\"))\n",
        "BMI=w/(h**2)\n",
        "print(BMI)"
      ]
    },
    {
      "cell_type": "markdown",
      "metadata": {
        "id": "JgXK2m28IZ-7"
      },
      "source": [
        "8.Write a python program to calculate the area of circle."
      ]
    },
    {
      "cell_type": "code",
      "source": [
        "r=int(input(\"enter the radius of a circle :\"))\n",
        "area=3.14*r*r #where r=radius\n",
        "print(area)"
      ],
      "metadata": {
        "id": "g0EwJts2jVND",
        "colab": {
          "base_uri": "https://localhost:8080/"
        },
        "outputId": "1fd2df27-dd6a-4db0-d6e9-5d328020cee2"
      },
      "execution_count": 2,
      "outputs": [
        {
          "output_type": "stream",
          "name": "stdout",
          "text": [
            "enter the radius of a circle :30\n",
            "2826.0\n"
          ]
        }
      ]
    },
    {
      "cell_type": "markdown",
      "metadata": {
        "id": "BHXFt9VwIZ_A"
      },
      "source": [
        "9.Calculate the simple interest\n",
        "simple_interest = p * n * r /100"
      ]
    },
    {
      "cell_type": "code",
      "execution_count": null,
      "metadata": {
        "colab": {
          "base_uri": "https://localhost:8080/"
        },
        "id": "7wHLjXC4IZ_B",
        "outputId": "028a15fa-a04b-40ac-f1ce-45cb0d5c4f88"
      },
      "outputs": [
        {
          "output_type": "stream",
          "name": "stdout",
          "text": [
            "enter the principle amount :10000\n",
            "enter no of years :3\n",
            "enter rate of interest :10\n",
            "3000.0\n"
          ]
        }
      ],
      "source": [
        "p=int(input(\"enter the principle amount :\"))\n",
        "n=int(input(\"enter no of years :\"))\n",
        "r=int(input(\"enter rate of interest :\"))\n",
        "simple_interest=(p*n*r/100)\n",
        "print(simple_interest)"
      ]
    },
    {
      "cell_type": "markdown",
      "metadata": {
        "id": "afLADSCGIZ_G"
      },
      "source": [
        "10.Python code to calculate the square root of the given number(run time variable)"
      ]
    },
    {
      "cell_type": "code",
      "execution_count": null,
      "metadata": {
        "id": "XBTku4euIZ_H",
        "colab": {
          "base_uri": "https://localhost:8080/"
        },
        "outputId": "24c4e755-58f9-4cd2-ab80-b5a0ef15e904"
      },
      "outputs": [
        {
          "output_type": "stream",
          "name": "stdout",
          "text": [
            "enter a number :5\n",
            "3125\n"
          ]
        }
      ],
      "source": [
        "x=int(input(\"enter a number :\"))\n",
        "print(x**x)"
      ]
    }
  ],
  "metadata": {
    "colab": {
      "provenance": []
    },
    "kernelspec": {
      "display_name": "Python 3 (ipykernel)",
      "language": "python",
      "name": "python3"
    },
    "language_info": {
      "codemirror_mode": {
        "name": "ipython",
        "version": 3
      },
      "file_extension": ".py",
      "mimetype": "text/x-python",
      "name": "python",
      "nbconvert_exporter": "python",
      "pygments_lexer": "ipython3",
      "version": "3.9.13"
    }
  },
  "nbformat": 4,
  "nbformat_minor": 0
}